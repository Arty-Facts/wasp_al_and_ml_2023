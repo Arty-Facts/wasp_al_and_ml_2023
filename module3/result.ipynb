{
 "cells": [
  {
   "cell_type": "code",
   "execution_count": 2,
   "metadata": {},
   "outputs": [
    {
     "name": "stdout",
     "output_type": "stream",
     "text": [
      "Model       - score 0.114, f1 0.962, epochs 10\n",
      "Model       - score 0.115, f1 0.961, epochs 25\n",
      "Model       - score 0.114, f1 0.961, epochs 10\n",
      "Model_V2    - score 0.119, f1 0.960, epochs 20\n",
      "Model_F3    - score 0.128, f1 0.960, epochs 25\n",
      "Model       - score 0.117, f1 0.960, epochs 20\n",
      "Model_F3    - score 0.129, f1 0.960, epochs 25\n",
      "Model_F1_V2 - score 0.119, f1 0.959, epochs 10\n",
      "Model_V3    - score 0.137, f1 0.959, epochs 10\n",
      "Model_V2    - score 0.121, f1 0.959, epochs 20\n",
      "Model_V3    - score 0.136, f1 0.959, epochs 10\n",
      "Model_V2    - score 0.122, f1 0.958, epochs 20\n",
      "Model_V2    - score 0.123, f1 0.958, epochs 10\n",
      "Model_F3_V2 - score 0.135, f1 0.958, epochs 10\n",
      "Model_F1_V2 - score 0.124, f1 0.957, epochs 10\n",
      "Model_F3_V2 - score 0.135, f1 0.957, epochs 10\n",
      "Model_F3    - score 0.136, f1 0.957, epochs 10\n",
      "Model_F3_V2 - score 0.136, f1 0.957, epochs 10\n",
      "Model_F3_V2 - score 0.139, f1 0.956, epochs 10\n",
      "Model_F1    - score 0.132, f1 0.956, epochs 25\n",
      "Model_F1_V2 - score 0.130, f1 0.955, epochs 10\n",
      "Model_F1    - score 0.129, f1 0.955, epochs 10\n",
      "Model_V3    - score 0.148, f1 0.955, epochs 10\n",
      "Model_F3    - score 0.141, f1 0.955, epochs 10\n",
      "Model_V3    - score 0.147, f1 0.955, epochs 10\n",
      "Model_F1_V2 - score 0.133, f1 0.954, epochs 10\n",
      "Model_F1    - score 0.139, f1 0.953, epochs 10\n",
      "Model_F1    - score 0.146, f1 0.950, epochs 10\n",
      "Baseline_F1 - score 0.800, f1 0.616, epochs 25\n",
      "Baseline_F1 - score 0.805, f1 0.610, epochs 25\n",
      "Baseline_F1 - score 0.810, f1 0.605, epochs 25\n",
      "Baseline_F1 - score 0.814, f1 0.600, epochs 25\n"
     ]
    }
   ],
   "source": [
    "import torch \n",
    "import glob\n",
    "\n",
    "\n",
    "model_ckpts = glob.glob('saved_models_standard/*.pth')\n",
    "\n",
    "ckpts = [torch.load(ckpt, map_location=torch.device('cpu')) for ckpt in model_ckpts]\n",
    "\n",
    "for ckpt in sorted(ckpts, key=lambda x: x['f1'], reverse=True):\n",
    "    name = ckpt['kvargs']['name']\n",
    "    print(f\"{name:11} - score {ckpt['score']:.3f}, f1 {ckpt['f1']:.3f}, epochs {ckpt['num_epochs']}\")"
   ]
  },
  {
   "cell_type": "code",
   "execution_count": 17,
   "metadata": {},
   "outputs": [
    {
     "name": "stdout",
     "output_type": "stream",
     "text": [
      "Model_F1_V2 - score 0.116, f1 0.961, epochs 5\n",
      "Model_F1_V2 - score 0.118, f1 0.960, epochs 10\n",
      "Model_F1    - score 0.121, f1 0.959, epochs 5\n",
      "Model_F1    - score 0.121, f1 0.959, epochs 10\n",
      "Model_F1    - score 0.123, f1 0.959, epochs 10\n",
      "Model_F3    - score 0.133, f1 0.958, epochs 10\n",
      "Model_F1_V2 - score 0.123, f1 0.958, epochs 10\n",
      "Model_F3_V2 - score 0.135, f1 0.958, epochs 5\n",
      "Model_F1    - score 0.123, f1 0.958, epochs 10\n",
      "Model_F3_V2 - score 0.136, f1 0.958, epochs 5\n",
      "Model_F1_V2 - score 0.125, f1 0.958, epochs 5\n",
      "Model_F1    - score 0.127, f1 0.957, epochs 10\n",
      "Model_F1    - score 0.130, f1 0.956, epochs 5\n",
      "Model_F1_V2 - score 0.136, f1 0.955, epochs 10\n",
      "Model_F1_V2 - score 0.132, f1 0.955, epochs 5\n",
      "Model_F1    - score 0.134, f1 0.955, epochs 5\n",
      "Model_F1_V2 - score 0.133, f1 0.955, epochs 10\n",
      "Model_F1    - score 0.135, f1 0.954, epochs 10\n",
      "Model_F3    - score 0.147, f1 0.953, epochs 10\n",
      "Model_F3    - score 0.149, f1 0.953, epochs 10\n",
      "Model_F3_V2 - score 0.148, f1 0.953, epochs 5\n",
      "Model_F3    - score 0.152, f1 0.952, epochs 5\n",
      "Model_F3    - score 0.153, f1 0.952, epochs 5\n",
      "Model_F3    - score 0.162, f1 0.950, epochs 5\n",
      "Model_F3    - score 0.158, f1 0.950, epochs 10\n",
      "Model_F3_V2 - score 0.175, f1 0.944, epochs 5\n",
      "Model_F3    - score 0.180, f1 0.942, epochs 5\n",
      "Model_F1    - score 0.183, f1 0.937, epochs 10\n",
      "Model_F1_V2 - score 0.266, f1 0.909, epochs 5\n",
      "Baseline_F1 - score 0.817, f1 0.618, epochs 10\n",
      "Baseline_F1 - score 0.831, f1 0.587, epochs 10\n",
      "Baseline_F3 - score 0.835, f1 0.584, epochs 10\n",
      "Baseline_F1 - score 0.832, f1 0.584, epochs 10\n",
      "Baseline_F1 - score 0.834, f1 0.582, epochs 10\n",
      "Baseline_F3 - score 0.839, f1 0.580, epochs 10\n",
      "Baseline_F1 - score 0.843, f1 0.573, epochs 10\n",
      "Baseline_F3 - score 0.850, f1 0.566, epochs 10\n",
      "Baseline_F3 - score 0.855, f1 0.558, epochs 10\n"
     ]
    }
   ],
   "source": [
    "model_ckpts = glob.glob('saved_models_balanced*/*.pth')\n",
    "\n",
    "ckpts = [torch.load(ckpt, map_location=torch.device('cpu')) for ckpt in model_ckpts]\n",
    "\n",
    "for ckpt in sorted(ckpts, key=lambda x: x['f1'], reverse=True):\n",
    "    name = ckpt['kvargs']['name']\n",
    "    print(f\"{name:11} - score {ckpt['score']:.3f}, f1 {ckpt['f1']:.3f}, epochs {ckpt['num_epochs']}\")"
   ]
  }
 ],
 "metadata": {
  "kernelspec": {
   "display_name": ".venv",
   "language": "python",
   "name": "python3"
  },
  "language_info": {
   "codemirror_mode": {
    "name": "ipython",
    "version": 3
   },
   "file_extension": ".py",
   "mimetype": "text/x-python",
   "name": "python",
   "nbconvert_exporter": "python",
   "pygments_lexer": "ipython3",
   "version": "3.10.6"
  },
  "orig_nbformat": 4
 },
 "nbformat": 4,
 "nbformat_minor": 2
}
