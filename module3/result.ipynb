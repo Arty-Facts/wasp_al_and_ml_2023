{
 "cells": [
  {
   "cell_type": "code",
   "execution_count": 84,
   "metadata": {},
   "outputs": [
    {
     "name": "stdout",
     "output_type": "stream",
     "text": [
      "Model_F1    - score 0.104, f1 0.966, precision 0.968, recall 0.964 epochs 100\n",
      "Model_F1    - score 0.116, f1 0.965, precision 0.966, recall 0.964 epochs 200\n",
      "Model_F1    - score 0.103, f1 0.965, precision 0.971, recall 0.959 epochs 200\n",
      "Model_F1_V2 - score 0.106, f1 0.964, precision 0.966, recall 0.963 epochs 200\n",
      "Model_F1_V2 - score 0.108, f1 0.964, precision 0.956, recall 0.971 epochs 40\n",
      "Model_F1_V2 - score 0.111, f1 0.963, precision 0.963, recall 0.964 epochs 100\n",
      "Model_F1    - score 0.109, f1 0.963, precision 0.964, recall 0.963 epochs 30\n",
      "Model_F1    - score 0.110, f1 0.963, precision 0.971, recall 0.956 epochs 25\n",
      "Model_F1_V2 - score 0.111, f1 0.963, precision 0.959, recall 0.966 epochs 40\n",
      "Model_F1_V2 - score 0.111, f1 0.963, precision 0.961, recall 0.964 epochs 200\n",
      "Model_F1    - score 0.111, f1 0.963, precision 0.961, recall 0.964 epochs 20\n",
      "Model       - score 0.114, f1 0.962, precision 0.971, recall 0.954 epochs 10\n",
      "Model_F1_V2 - score 0.113, f1 0.962, precision 0.959, recall 0.964 epochs 100\n",
      "Model_F3_V2 - score 0.126, f1 0.962, precision 0.959, recall 0.964 epochs 15\n",
      "Model_F3    - score 0.124, f1 0.962, precision 0.961, recall 0.963 epochs 20\n",
      "Model_F1_V2 - score 0.116, f1 0.962, precision 0.961, recall 0.963 epochs 50\n",
      "Model_F1    - score 0.114, f1 0.962, precision 0.967, recall 0.956 epochs 25\n",
      "Model_F1_V2 - score 0.116, f1 0.961, precision 0.952, recall 0.971 epochs 50\n",
      "Model       - score 0.115, f1 0.961, precision 0.960, recall 0.962 epochs 25\n",
      "Model       - score 0.114, f1 0.961, precision 0.961, recall 0.960 epochs 10\n",
      "Model_F1_V2 - score 0.116, f1 0.961, precision 0.954, recall 0.969 epochs 5\n",
      "Model_F3    - score 0.128, f1 0.961, precision 0.961, recall 0.961 epochs 20\n",
      "Model_F3    - score 0.127, f1 0.961, precision 0.962, recall 0.959 epochs 20\n",
      "Model_F3_V2 - score 0.131, f1 0.960, precision 0.955, recall 0.966 epochs 25\n",
      "Model_V2    - score 0.119, f1 0.960, precision 0.955, recall 0.966 epochs 20\n",
      "Model_F3    - score 0.128, f1 0.960, precision 0.959, recall 0.961 epochs 25\n",
      "Model_F3    - score 0.132, f1 0.960, precision 0.959, recall 0.961 epochs 20\n",
      "Model_F3_V2 - score 0.130, f1 0.960, precision 0.962, recall 0.957 epochs 15\n",
      "Model       - score 0.117, f1 0.960, precision 0.962, recall 0.957 epochs 20\n",
      "Model_F3    - score 0.129, f1 0.960, precision 0.969, recall 0.950 epochs 25\n",
      "Model_F3_V2 - score 0.129, f1 0.960, precision 0.972, recall 0.947 epochs 25\n",
      "Model_F1    - score 0.121, f1 0.960, precision 0.970, recall 0.949 epochs 20\n",
      "Model_F1    - score 0.121, f1 0.959, precision 0.949, recall 0.970 epochs 5\n",
      "Model_F1_V2 - score 0.119, f1 0.959, precision 0.965, recall 0.954 epochs 10\n",
      "Model_F3    - score 0.131, f1 0.959, precision 0.958, recall 0.961 epochs 30\n",
      "Model_F1_V2 - score 0.121, f1 0.959, precision 0.959, recall 0.959 epochs 15\n",
      "Model_F1    - score 0.122, f1 0.959, precision 0.964, recall 0.954 epochs 15\n",
      "Model_V3    - score 0.137, f1 0.959, precision 0.959, recall 0.959 epochs 10\n",
      "Model_F3_V2 - score 0.131, f1 0.959, precision 0.966, recall 0.952 epochs 20\n",
      "Model_F3_V2 - score 0.135, f1 0.959, precision 0.967, recall 0.951 epochs 20\n",
      "Model_V2    - score 0.121, f1 0.959, precision 0.948, recall 0.970 epochs 20\n",
      "Model_V3    - score 0.136, f1 0.959, precision 0.952, recall 0.966 epochs 10\n",
      "Model_F3    - score 0.132, f1 0.958, precision 0.958, recall 0.959 epochs 20\n",
      "Model_F3_V2 - score 0.134, f1 0.958, precision 0.957, recall 0.959 epochs 10\n",
      "Model_V2    - score 0.122, f1 0.958, precision 0.961, recall 0.955 epochs 20\n",
      "Model_V2    - score 0.123, f1 0.958, precision 0.964, recall 0.952 epochs 10\n",
      "Model_F3_V2 - score 0.135, f1 0.958, precision 0.966, recall 0.950 epochs 10\n",
      "Model_F3_V2 - score 0.136, f1 0.958, precision 0.942, recall 0.974 epochs 5\n",
      "Model_F1_V2 - score 0.125, f1 0.958, precision 0.945, recall 0.970 epochs 5\n",
      "Model_F1_V2 - score 0.124, f1 0.957, precision 0.965, recall 0.950 epochs 10\n",
      "Model_F3_V2 - score 0.135, f1 0.957, precision 0.965, recall 0.950 epochs 10\n",
      "Model_F3    - score 0.136, f1 0.957, precision 0.969, recall 0.946 epochs 10\n",
      "Model_F3_V2 - score 0.136, f1 0.957, precision 0.957, recall 0.957 epochs 10\n",
      "Model_F3_V2 - score 0.137, f1 0.957, precision 0.947, recall 0.968 epochs 10\n",
      "Model_F1    - score 0.130, f1 0.957, precision 0.953, recall 0.961 epochs 15\n",
      "Model_F3    - score 0.137, f1 0.957, precision 0.974, recall 0.940 epochs 25\n",
      "Model_F3_V2 - score 0.139, f1 0.957, precision 0.956, recall 0.957 epochs 25\n",
      "Model_F3    - score 0.138, f1 0.957, precision 0.957, recall 0.956 epochs 15\n",
      "Model_F1    - score 0.130, f1 0.956, precision 0.955, recall 0.958 epochs 5\n",
      "Model_F3    - score 0.141, f1 0.956, precision 0.951, recall 0.961 epochs 20\n",
      "Model_F1_V2 - score 0.131, f1 0.956, precision 0.951, recall 0.961 epochs 20\n",
      "Model_F3_V2 - score 0.139, f1 0.956, precision 0.960, recall 0.952 epochs 10\n",
      "Model_F1    - score 0.132, f1 0.956, precision 0.962, recall 0.949 epochs 25\n",
      "Model_F3    - score 0.141, f1 0.956, precision 0.957, recall 0.954 epochs 30\n",
      "Model_F3_V2 - score 0.139, f1 0.956, precision 0.960, recall 0.951 epochs 15\n",
      "Model_F1_V2 - score 0.130, f1 0.955, precision 0.969, recall 0.943 epochs 10\n",
      "Model_F1    - score 0.129, f1 0.955, precision 0.957, recall 0.954 epochs 10\n",
      "Model_V3    - score 0.148, f1 0.955, precision 0.963, recall 0.948 epochs 10\n",
      "Model_F3    - score 0.141, f1 0.955, precision 0.961, recall 0.949 epochs 10\n",
      "Model_V3    - score 0.147, f1 0.955, precision 0.959, recall 0.951 epochs 10\n",
      "Model_F3_V2 - score 0.143, f1 0.955, precision 0.959, recall 0.951 epochs 25\n",
      "Model_F1_V2 - score 0.133, f1 0.954, precision 0.953, recall 0.956 epochs 10\n",
      "Model_F3    - score 0.146, f1 0.954, precision 0.951, recall 0.957 epochs 20\n",
      "Model_F1    - score 0.139, f1 0.953, precision 0.958, recall 0.948 epochs 10\n",
      "Model_F3    - score 0.150, f1 0.953, precision 0.959, recall 0.947 epochs 20\n",
      "Model_F1    - score 0.146, f1 0.950, precision 0.953, recall 0.947 epochs 10\n",
      "Model_F1    - score 0.165, f1 0.944, precision 0.936, recall 0.952 epochs 10\n",
      "Baseline_F1 - score 0.800, f1 0.616, precision 0.656, recall 0.581 epochs 25\n",
      "Baseline_F1 - score 0.807, f1 0.615, precision 0.643, recall 0.590 epochs 25\n",
      "Baseline_F1 - score 0.805, f1 0.610, precision 0.661, recall 0.567 epochs 25\n",
      "Baseline_F1 - score 0.813, f1 0.608, precision 0.648, recall 0.573 epochs 30\n",
      "Baseline_F1 - score 0.812, f1 0.607, precision 0.660, recall 0.561 epochs 30\n",
      "Baseline_F1 - score 0.810, f1 0.605, precision 0.649, recall 0.566 epochs 25\n",
      "Baseline_F1 - score 0.815, f1 0.604, precision 0.659, recall 0.558 epochs 25\n",
      "Baseline_F1 - score 0.817, f1 0.603, precision 0.649, recall 0.563 epochs 30\n",
      "Baseline_F1 - score 0.814, f1 0.600, precision 0.642, recall 0.564 epochs 25\n",
      "Baseline_F3 - score 0.825, f1 0.595, precision 0.650, recall 0.549 epochs 30\n",
      "Baseline_F3 - score 0.827, f1 0.593, precision 0.652, recall 0.544 epochs 30\n",
      "Baseline_F3 - score 0.829, f1 0.591, precision 0.643, recall 0.548 epochs 20\n",
      "Baseline_F3 - score 0.826, f1 0.591, precision 0.662, recall 0.534 epochs 30\n",
      "Baseline_F1 - score 0.831, f1 0.587, precision 0.648, recall 0.537 epochs 10\n",
      "Baseline_F3 - score 0.835, f1 0.584, precision 0.664, recall 0.521 epochs 10\n",
      "Baseline_F1 - score 0.832, f1 0.584, precision 0.667, recall 0.519 epochs 10\n",
      "Baseline_F1 - score 0.834, f1 0.582, precision 0.660, recall 0.521 epochs 10\n",
      "Baseline_F3 - score 0.839, f1 0.580, precision 0.662, recall 0.516 epochs 10\n",
      "Baseline_F1 - score 0.843, f1 0.573, precision 0.643, recall 0.516 epochs 10\n",
      "Baseline_F3 - score 0.850, f1 0.566, precision 0.658, recall 0.496 epochs 10\n",
      "Baseline_F3 - score 0.855, f1 0.558, precision 0.659, recall 0.484 epochs 10\n"
     ]
    }
   ],
   "source": [
    "import torch \n",
    "import glob\n",
    "\n",
    "\n",
    "model_ckpts = glob.glob('saved_models*/*.pth')\n",
    "\n",
    "ckpts = [torch.load(ckpt, map_location=torch.device('cpu')) for ckpt in model_ckpts]\n",
    "\n",
    "for ckpt in sorted(ckpts, key=lambda x: x['f1'], reverse=True):\n",
    "    name = ckpt['kvargs']['name']\n",
    "    print(f\"{name:11} - score {ckpt['score']:.3f}, f1 {ckpt['f1']:.3f}, precision {ckpt['precision']:.3f}, recall {ckpt['recall']:.3f} epochs {ckpt['num_epochs']}\")\n"
   ]
  },
  {
   "cell_type": "code",
   "execution_count": 81,
   "metadata": {},
   "outputs": [
    {
     "name": "stdout",
     "output_type": "stream",
     "text": [
      "Model_F1_V2 - score 0.108, f1 0.964, precision 0.956, recall 0.971 epochs 40\n",
      "Model_F1    - score 0.109, f1 0.963, precision 0.964, recall 0.963 epochs 30\n",
      "Model_F1    - score 0.110, f1 0.963, precision 0.971, recall 0.956 epochs 25\n",
      "Model_F1_V2 - score 0.111, f1 0.963, precision 0.959, recall 0.966 epochs 40\n",
      "Model_F1    - score 0.111, f1 0.963, precision 0.961, recall 0.964 epochs 20\n",
      "Model_F3_V2 - score 0.126, f1 0.962, precision 0.959, recall 0.964 epochs 15\n",
      "Model_F3    - score 0.124, f1 0.962, precision 0.961, recall 0.963 epochs 20\n",
      "Model_F1_V2 - score 0.116, f1 0.962, precision 0.961, recall 0.963 epochs 50\n",
      "Model_F1_V2 - score 0.116, f1 0.961, precision 0.952, recall 0.971 epochs 50\n",
      "Model_F3_V2 - score 0.131, f1 0.960, precision 0.955, recall 0.966 epochs 25\n",
      "Model_F3    - score 0.132, f1 0.960, precision 0.959, recall 0.961 epochs 20\n",
      "Model_F1    - score 0.121, f1 0.960, precision 0.970, recall 0.949 epochs 20\n",
      "Model_F3    - score 0.131, f1 0.959, precision 0.958, recall 0.961 epochs 30\n",
      "Model_F3_V2 - score 0.134, f1 0.958, precision 0.957, recall 0.959 epochs 10\n",
      "Model_F3_V2 - score 0.137, f1 0.957, precision 0.947, recall 0.968 epochs 10\n",
      "Model_F3    - score 0.146, f1 0.954, precision 0.951, recall 0.957 epochs 20\n"
     ]
    }
   ],
   "source": [
    "model_ckpts = glob.glob('saved_models_balanced_v2/*.pth')\n",
    "\n",
    "ckpts = [torch.load(ckpt, map_location=torch.device('cpu')) for ckpt in model_ckpts]\n",
    "\n",
    "for ckpt in sorted(ckpts, key=lambda x: x['f1'], reverse=True):\n",
    "    name = ckpt['kvargs']['name']\n",
    "    print(f\"{name:11} - score {ckpt['score']:.3f}, f1 {ckpt['f1']:.3f}, precision {ckpt['precision']:.3f}, recall {ckpt['recall']:.3f} epochs {ckpt['num_epochs']}\")\n"
   ]
  },
  {
   "cell_type": "code",
   "execution_count": 83,
   "metadata": {},
   "outputs": [
    {
     "name": "stdout",
     "output_type": "stream",
     "text": [
      "Model_F1    - score 0.104, f1 0.966, precision 0.968, recall 0.964 epochs 100\n",
      "Model_F1    - score 0.116, f1 0.965, precision 0.966, recall 0.964 epochs 200\n",
      "Model_F1    - score 0.103, f1 0.965, precision 0.971, recall 0.959 epochs 200\n",
      "Model_F1_V2 - score 0.106, f1 0.964, precision 0.966, recall 0.963 epochs 200\n",
      "Model_F1_V2 - score 0.111, f1 0.963, precision 0.963, recall 0.964 epochs 100\n",
      "Model_F1_V2 - score 0.111, f1 0.963, precision 0.961, recall 0.964 epochs 200\n",
      "Model_F1_V2 - score 0.113, f1 0.962, precision 0.959, recall 0.964 epochs 100\n",
      "Model_F1    - score 0.114, f1 0.962, precision 0.967, recall 0.956 epochs 25\n",
      "Model_F3    - score 0.128, f1 0.961, precision 0.961, recall 0.961 epochs 20\n",
      "Model_F3_V2 - score 0.129, f1 0.960, precision 0.972, recall 0.947 epochs 25\n",
      "Model_F3_V2 - score 0.135, f1 0.959, precision 0.967, recall 0.951 epochs 20\n",
      "Model_F3    - score 0.137, f1 0.957, precision 0.974, recall 0.940 epochs 25\n",
      "Model_F3_V2 - score 0.139, f1 0.957, precision 0.956, recall 0.957 epochs 25\n",
      "Model_F3    - score 0.141, f1 0.956, precision 0.957, recall 0.954 epochs 30\n",
      "Model_F3_V2 - score 0.143, f1 0.955, precision 0.959, recall 0.951 epochs 25\n",
      "Model_F3    - score 0.150, f1 0.953, precision 0.959, recall 0.947 epochs 20\n",
      "Baseline_F1 - score 0.813, f1 0.608, precision 0.648, recall 0.573 epochs 30\n",
      "Baseline_F1 - score 0.812, f1 0.607, precision 0.660, recall 0.561 epochs 30\n",
      "Baseline_F1 - score 0.815, f1 0.604, precision 0.659, recall 0.558 epochs 25\n",
      "Baseline_F1 - score 0.817, f1 0.603, precision 0.649, recall 0.563 epochs 30\n",
      "Baseline_F3 - score 0.825, f1 0.595, precision 0.650, recall 0.549 epochs 30\n",
      "Baseline_F3 - score 0.827, f1 0.593, precision 0.652, recall 0.544 epochs 30\n",
      "Baseline_F3 - score 0.829, f1 0.591, precision 0.643, recall 0.548 epochs 20\n",
      "Baseline_F3 - score 0.826, f1 0.591, precision 0.662, recall 0.534 epochs 30\n"
     ]
    }
   ],
   "source": [
    "model_ckpts = glob.glob('saved_models_balanced_aug/*.pth')\n",
    "\n",
    "ckpts = [torch.load(ckpt, map_location=torch.device('cpu')) for ckpt in model_ckpts]\n",
    "\n",
    "for ckpt in sorted(ckpts, key=lambda x: x['f1'], reverse=True):\n",
    "    name = ckpt['kvargs']['name']\n",
    "    print(f\"{name:11} - score {ckpt['score']:.3f}, f1 {ckpt['f1']:.3f}, precision {ckpt['precision']:.3f}, recall {ckpt['recall']:.3f} epochs {ckpt['num_epochs']}\")"
   ]
  },
  {
   "cell_type": "code",
   "execution_count": 25,
   "metadata": {},
   "outputs": [
    {
     "data": {
      "text/plain": [
       "216.0000000000002"
      ]
     },
     "execution_count": 25,
     "metadata": {},
     "output_type": "execute_result"
    }
   ],
   "source": [
    "6000*(1-0.964)"
   ]
  },
  {
   "cell_type": "code",
   "execution_count": 54,
   "metadata": {},
   "outputs": [
    {
     "data": {
      "text/plain": [
       "204.00000000000017"
      ]
     },
     "execution_count": 54,
     "metadata": {},
     "output_type": "execute_result"
    }
   ],
   "source": [
    "6000*(1-0.966)"
   ]
  },
  {
   "cell_type": "code",
   "execution_count": 26,
   "metadata": {},
   "outputs": [
    {
     "data": {
      "text/plain": [
       "252.00000000000023"
      ]
     },
     "execution_count": 26,
     "metadata": {},
     "output_type": "execute_result"
    }
   ],
   "source": [
    "6000*(1-0.958)\n"
   ]
  },
  {
   "cell_type": "code",
   "execution_count": 27,
   "metadata": {},
   "outputs": [
    {
     "data": {
      "text/plain": [
       "21.000000000000018"
      ]
     },
     "execution_count": 27,
     "metadata": {},
     "output_type": "execute_result"
    }
   ],
   "source": [
    "3000*(1-0.993)"
   ]
  },
  {
   "cell_type": "code",
   "execution_count": 7,
   "metadata": {},
   "outputs": [
    {
     "name": "stdout",
     "output_type": "stream",
     "text": [
      "Model_F1    - score 0.111, f1 0.963, epochs 20\n",
      "{'name': 'Model_F1', 'kernel_size': 19, 'num_layers': 5, 'steps': 1, 'dropout': 0.13721088480005794, 'lin_steps': 2, 'in_channels': 8, 'out_features': 1, 'data_width': 4096, 'training_args': {'optimizer': {'name': 'Adam', 'lr': 0.0006030298383957956, 'weight_decay': 2.8539760630436408e-08}, 'lr_scheduler': {'name': 'OneCycleLR', 'max_lr': 0.0006030298383957956, 'steps_per_epoch': 375, 'epochs': 20}, 'batch_size': 32, 'num_epochs': 20}}\n",
      "Model       - score 0.114, f1 0.962, epochs 10\n",
      "{'name': 'Model', 'kernel_size': 47, 'num_layers': 7, 'steps': 2, 'dropout': 0.014495671013017297, 'lin_steps': 1}\n",
      "Model_F1_V2 - score 0.112, f1 0.962, epochs 20\n",
      "{'name': 'Model_F1_V2', 'kernel_size': 37, 'encode_layers': 5, 'encoder_out_channels': 704, 'reduce_layers': 4, 'reduce_out_channels': 32, 'steps': 1, 'dropout': 0.21028331799365396, 'lin_steps': 2, 'lin_dims': 192, 'in_channels': 8, 'out_features': 1, 'training_args': {'optimizer': {'name': 'Adam', 'lr': 0.00023595832114995042, 'weight_decay': 2.255149020781336e-06}, 'lr_scheduler': {'name': 'OneCycleLR', 'max_lr': 0.00023595832114995042, 'steps_per_epoch': 375, 'epochs': 20}, 'batch_size': 32, 'num_epochs': 20}}\n",
      "Model_F1_V2 - score 0.113, f1 0.962, epochs 10\n",
      "{'name': 'Model_F1_V2', 'kernel_size': 55, 'encode_layers': 8, 'encoder_out_channels': 896, 'reduce_layers': 4, 'reduce_out_channels': 31, 'steps': 1, 'dropout': 0.07226854200609624, 'lin_steps': 2, 'lin_dims': 224, 'in_channels': 8, 'out_features': 1, 'training_args': {'optimizer': {'name': 'Adam', 'lr': 0.00012163390192270336, 'weight_decay': 4.710108209610851e-06}, 'lr_scheduler': {'name': 'OneCycleLR', 'max_lr': 0.00012163390192270336, 'steps_per_epoch': 375, 'epochs': 10}, 'batch_size': 32, 'num_epochs': 10}}\n",
      "Model_F1    - score 0.114, f1 0.962, epochs 20\n",
      "{'name': 'Model_F1', 'kernel_size': 5, 'num_layers': 5, 'steps': 1, 'dropout': 0.07926458887167531, 'lin_steps': 2, 'in_channels': 8, 'out_features': 1, 'data_width': 4096, 'training_args': {'optimizer': {'name': 'Adam', 'lr': 0.0006142770921182759, 'weight_decay': 0.0007748676705378091}, 'lr_scheduler': {'name': 'OneCycleLR', 'max_lr': 0.0006142770921182759, 'steps_per_epoch': 375, 'epochs': 20}, 'batch_size': 32, 'num_epochs': 20}}\n",
      "Model_F3_V2 - score 0.126, f1 0.962, epochs 15\n",
      "{'name': 'Model_F3_V2', 'kernel_size': 55, 'encode_layers': 5, 'encoder_out_channels': 512, 'reduce_layers': 1, 'reduce_out_channels': 29, 'steps': 3, 'dropout': 0.15078843299939038, 'lin_steps': 1, 'lin_dims': 256, 'in_channels': 8, 'out_features': 3, 'training_args': {'optimizer': {'name': 'Adam', 'lr': 0.00021270408240865979, 'weight_decay': 0.0005268705182361286}, 'lr_scheduler': {'name': 'OneCycleLR', 'max_lr': 0.00021270408240865979, 'steps_per_epoch': 375, 'epochs': 15}, 'batch_size': 32, 'num_epochs': 15}}\n",
      "Model_F3    - score 0.124, f1 0.962, epochs 20\n",
      "{'name': 'Model_F3', 'kernel_size': 31, 'num_layers': 4, 'steps': 1, 'dropout': 0.4313752404839468, 'lin_steps': 1, 'in_channels': 8, 'out_features': 3, 'data_width': 4096, 'training_args': {'optimizer': {'name': 'Adam', 'lr': 0.00045814014342547826, 'weight_decay': 6.308307150121046e-06}, 'lr_scheduler': {'name': 'OneCycleLR', 'max_lr': 0.00045814014342547826, 'steps_per_epoch': 375, 'epochs': 20}, 'batch_size': 32, 'num_epochs': 20}}\n",
      "Model_F1    - score 0.114, f1 0.962, epochs 25\n",
      "{'name': 'Model_F1', 'kernel_size': 29, 'num_layers': 4, 'steps': 1, 'dropout': 0.4659178051699499, 'lin_steps': 1, 'in_channels': 8, 'out_features': 1, 'data_width': 4096, 'training_args': {'optimizer': {'name': 'Adam', 'lr': 0.0005935482507601692, 'weight_decay': 0.0002657779771154121}, 'lr_scheduler': {'name': 'OneCycleLR', 'max_lr': 0.0005935482507601692, 'steps_per_epoch': 375, 'epochs': 25}, 'batch_size': 32, 'num_epochs': 25}}\n",
      "Model       - score 0.115, f1 0.961, epochs 25\n",
      "{'name': 'Model', 'kernel_size': 29, 'num_layers': 7, 'steps': 1, 'dropout': 0.07962321921869245, 'lin_steps': 3}\n",
      "Model       - score 0.114, f1 0.961, epochs 10\n",
      "{'name': 'Model', 'kernel_size': 19, 'num_layers': 7, 'steps': 1, 'dropout': 0.2459610742197486, 'lin_steps': 1}\n"
     ]
    }
   ],
   "source": [
    "model_ckpts = glob.glob('saved_models_*/*.pth')\n",
    "\n",
    "ckpts = [torch.load(ckpt, map_location=torch.device('cpu')) for ckpt in model_ckpts]\n",
    "\n",
    "for ckpt in sorted(ckpts, key=lambda x: x['f1'], reverse=True)[:10]:\n",
    "    name = ckpt['kvargs']['name']\n",
    "    print(f\"{name:11} - score {ckpt['score']:.3f}, f1 {ckpt['f1']:.3f}, epochs {ckpt['num_epochs']}\")\n",
    "    print(ckpt['kvargs'])"
   ]
  }
 ],
 "metadata": {
  "kernelspec": {
   "display_name": ".venv",
   "language": "python",
   "name": "python3"
  },
  "language_info": {
   "codemirror_mode": {
    "name": "ipython",
    "version": 3
   },
   "file_extension": ".py",
   "mimetype": "text/x-python",
   "name": "python",
   "nbconvert_exporter": "python",
   "pygments_lexer": "ipython3",
   "version": "3.10.6"
  },
  "orig_nbformat": 4
 },
 "nbformat": 4,
 "nbformat_minor": 2
}
