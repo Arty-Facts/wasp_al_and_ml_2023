{
 "cells": [
  {
   "cell_type": "code",
   "execution_count": 1,
   "metadata": {},
   "outputs": [],
   "source": [
    "import torch \n",
    "\n",
    "ckpts = [\n",
    "    torch.load('Baseline_cuda_0.pth', map_location=torch.device('cpu')), \n",
    "    torch.load('Baseline_cuda_1.pth', map_location=torch.device('cpu')),\n",
    "    torch.load('Baseline_cuda_2.pth', map_location=torch.device('cpu')),\n",
    "    torch.load('Baseline_cuda_3.pth', map_location=torch.device('cpu')),\n",
    "    \n",
    "    torch.load('Model_cuda_0.pth', map_location=torch.device('cpu')), \n",
    "    torch.load('Model_cuda_1.pth', map_location=torch.device('cpu')), \n",
    "    torch.load('Model_cuda_2.pth', map_location=torch.device('cpu')), \n",
    "    torch.load('Model_cuda_3.pth', map_location=torch.device('cpu')), \n",
    "\n",
    "    torch.load('Model_V2_cuda_0.pth', map_location=torch.device('cpu')),\n",
    "    torch.load('Model_V2_cuda_1.pth', map_location=torch.device('cpu')),\n",
    "    torch.load('Model_V2_cuda_2.pth', map_location=torch.device('cpu')), \n",
    "    torch.load('Model_V2_cuda_3.pth', map_location=torch.device('cpu')), \n",
    "\n",
    "    torch.load('Model_V3_cuda_0.pth', map_location=torch.device('cpu')),\n",
    "    torch.load('Model_V3_cuda_1.pth', map_location=torch.device('cpu')),\n",
    "    torch.load('Model_V3_cuda_2.pth', map_location=torch.device('cpu')),\n",
    "    torch.load('Model_V3_cuda_3.pth', map_location=torch.device('cpu')),\n",
    "    ]\n"
   ]
  },
  {
   "cell_type": "code",
   "execution_count": 2,
   "metadata": {},
   "outputs": [
    {
     "name": "stdout",
     "output_type": "stream",
     "text": [
      "Model: score 0.114, f1 0.962, epochs 10, trial 5\n",
      "Model: score 0.115, f1 0.961, epochs 25, trial 145\n",
      "Model: score 0.114, f1 0.961, epochs 10, trial 3\n",
      "Model_V2: score 0.119, f1 0.96, epochs 20, trial 19\n",
      "Model: score 0.117, f1 0.96, epochs 20, trial 16\n",
      "Model_V3: score 0.137, f1 0.959, epochs 10, trial 44\n",
      "Model_V2: score 0.121, f1 0.959, epochs 20, trial 17\n",
      "Model_V3: score 0.136, f1 0.959, epochs 10, trial 74\n",
      "Model_V2: score 0.122, f1 0.958, epochs 20, trial 18\n",
      "Model_V2: score 0.123, f1 0.958, epochs 10, trial 40\n",
      "Model_V3: score 0.148, f1 0.955, epochs 10, trial 49\n",
      "Model_V3: score 0.147, f1 0.955, epochs 10, trial 65\n",
      "Baseline: score 0.973, f1 0.431, epochs 10, trial 92\n",
      "Baseline: score 0.975, f1 0.43, epochs 10, trial 52\n",
      "Baseline: score 0.975, f1 0.428, epochs 10, trial 83\n",
      "Baseline: score 0.973, f1 0.419, epochs 10, trial 73\n"
     ]
    }
   ],
   "source": [
    "for ckpt in sorted(ckpts, key=lambda x: x['f1'], reverse=True):\n",
    "    name = ckpt['kvargs'].pop('name')\n",
    "    print(f\"{name}: score {ckpt['score']:.3}, f1 {ckpt['f1']:.3}, epochs {ckpt['num_epochs']}, trial {ckpt['trial']}\")\n",
    "    # print(f\"{name}(\")\n",
    "    # for k, v in ckpt['kvargs'].items():\n",
    "    #     print(f\"    {k}={v},\")\n",
    "    # print(\")\")\n",
    "    ckpt['kvargs'][\"name\"] = name\n",
    "\n",
    "  "
   ]
  },
  {
   "cell_type": "code",
   "execution_count": null,
   "metadata": {},
   "outputs": [],
   "source": []
  }
 ],
 "metadata": {
  "kernelspec": {
   "display_name": ".venv",
   "language": "python",
   "name": "python3"
  },
  "language_info": {
   "codemirror_mode": {
    "name": "ipython",
    "version": 3
   },
   "file_extension": ".py",
   "mimetype": "text/x-python",
   "name": "python",
   "nbconvert_exporter": "python",
   "pygments_lexer": "ipython3",
   "version": "3.10.6"
  },
  "orig_nbformat": 4
 },
 "nbformat": 4,
 "nbformat_minor": 2
}
