{
 "cells": [
  {
   "cell_type": "code",
   "execution_count": 3,
   "metadata": {},
   "outputs": [],
   "source": [
    "import torch \n",
    "\n",
    "ckpts = [\n",
    "    torch.load('Baseline_cuda_0.pth'), \n",
    "    torch.load('Baseline_cuda_1.pth'),\n",
    "    torch.load('Baseline_cuda_2.pth'),\n",
    "    torch.load('Baseline_cuda_3.pth'),\n",
    "    \n",
    "    torch.load('Model_cuda_0.pth'), \n",
    "    torch.load('Model_cuda_1.pth'), \n",
    "    torch.load('Model_cuda_2.pth'), \n",
    "    torch.load('Model_cuda_3.pth'), \n",
    "\n",
    "    torch.load('Model_V2_cuda_0.pth'),\n",
    "    torch.load('Model_V2_cuda_1.pth'),\n",
    "    torch.load('Model_V2_cuda_2.pth'), \n",
    "    torch.load('Model_V2_cuda_3.pth'), \n",
    "\n",
    "    torch.load('Model_V3_cuda_0.pth'),\n",
    "    torch.load('Model_V3_cuda_1.pth'),\n",
    "    torch.load('Model_V3_cuda_2.pth'),\n",
    "    torch.load('Model_V3_cuda_3.pth'),\n",
    "    ]\n"
   ]
  },
  {
   "cell_type": "code",
   "execution_count": 4,
   "metadata": {},
   "outputs": [
    {
     "name": "stdout",
     "output_type": "stream",
     "text": [
      "Model_V3: score 0.114, f1 0.961, epochs 10\n",
      "Model: score 0.114, f1 0.962, epochs 10\n",
      "Model: score 0.117, f1 0.96, epochs 20\n",
      "Model: score 0.119, f1 0.96, epochs 20\n",
      "Model_V2: score 0.121, f1 0.959, epochs 20\n",
      "Model_V2: score 0.122, f1 0.958, epochs 20\n",
      "Model_V2: score 0.344, f1 0.872, epochs 10\n",
      "Model_V2: score 0.412, f1 0.836, epochs 10\n",
      "Model_V3: score 0.814, f1 0.586, epochs 10\n",
      "Model_V3: score 0.975, f1 0.453, epochs 10\n",
      "Baseline: score 0.975, f1 0.464, epochs 20\n",
      "Model: score 0.978, f1 0.427, epochs 20\n",
      "Baseline: score 0.98, f1 0.429, epochs 10\n",
      "Baseline: score 0.981, f1 0.428, epochs 10\n",
      "Baseline: score 0.999, f1 0.38, epochs 10\n",
      "Model_V3: score 1.06, f1 0.0657, epochs 10\n"
     ]
    }
   ],
   "source": [
    "for ckpt in sorted(ckpts, key=lambda x: x['score']):\n",
    "    print(f\"{name}: score {ckpt['score']:.3}, f1 {ckpt['f1']:.3}, epochs {ckpt['num_epochs']}\")\n",
    "    name = ckpt['kvargs'].pop('name')\n",
    "    # print(f\"{name}(\")\n",
    "    # for k, v in ckpt['kvargs'].items():\n",
    "    #     print(f\"    {k}={v},\")\n",
    "    # print(\")\")\n",
    "    ckpt['kvargs'][\"name\"] = name\n",
    "\n",
    "  "
   ]
  },
  {
   "cell_type": "code",
   "execution_count": null,
   "metadata": {},
   "outputs": [],
   "source": []
  }
 ],
 "metadata": {
  "kernelspec": {
   "display_name": ".venv",
   "language": "python",
   "name": "python3"
  },
  "language_info": {
   "codemirror_mode": {
    "name": "ipython",
    "version": 3
   },
   "file_extension": ".py",
   "mimetype": "text/x-python",
   "name": "python",
   "nbconvert_exporter": "python",
   "pygments_lexer": "ipython3",
   "version": "3.10.6"
  },
  "orig_nbformat": 4
 },
 "nbformat": 4,
 "nbformat_minor": 2
}
