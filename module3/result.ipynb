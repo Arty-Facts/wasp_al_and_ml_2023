{
 "cells": [
  {
   "cell_type": "code",
   "execution_count": 4,
   "metadata": {},
   "outputs": [],
   "source": [
    "import torch \n",
    "\n",
    "# Load the model\n",
    "ckpt0 = torch.load('model_best_cuda_0.pth')\n",
    "ckpt1 = torch.load('model_best_cuda_1.pth')\n",
    "ckpt2 = torch.load('model_best_cuda_2.pth')\n",
    "ckpt3 = torch.load('model_best_cuda_3.pth')"
   ]
  },
  {
   "cell_type": "code",
   "execution_count": 8,
   "metadata": {},
   "outputs": [
    {
     "name": "stdout",
     "output_type": "stream",
     "text": [
      "0.1229512547147348\n",
      "{'name': 'Model', 'kernel_size': 23, 'num_layers': 6, 'steps': 1, 'dropout': 0.29198014918517856, 'lin_steps': 0}\n",
      "0.1252727079354993\n",
      "{'name': 'Model', 'kernel_size': 25, 'num_layers': 7, 'steps': 2, 'dropout': 0.08529020555558109, 'lin_steps': 2}\n",
      "0.12648311137496474\n",
      "{'name': 'Model', 'kernel_size': 17, 'num_layers': 5, 'steps': 1, 'dropout': 0.09124659124633094, 'lin_steps': 0}\n",
      "0.1372841986211976\n",
      "{'name': 'Model', 'kernel_size': 33, 'num_layers': 6, 'steps': 1, 'dropout': 0.160595138341066, 'lin_steps': 2}\n"
     ]
    }
   ],
   "source": [
    "for ckpt in sorted([ckpt0, ckpt1, ckpt2, ckpt3], key=lambda x: x['loss']):\n",
    "    print(ckpt['loss']) \n",
    "    print(ckpt['kvargs'])"
   ]
  }
 ],
 "metadata": {
  "kernelspec": {
   "display_name": ".venv",
   "language": "python",
   "name": "python3"
  },
  "language_info": {
   "codemirror_mode": {
    "name": "ipython",
    "version": 3
   },
   "file_extension": ".py",
   "mimetype": "text/x-python",
   "name": "python",
   "nbconvert_exporter": "python",
   "pygments_lexer": "ipython3",
   "version": "3.10.6"
  },
  "orig_nbformat": 4
 },
 "nbformat": 4,
 "nbformat_minor": 2
}
